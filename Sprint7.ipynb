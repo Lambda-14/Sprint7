{
 "cells": [
  {
   "cell_type": "markdown",
   "metadata": {},
   "source": [
    "# Sprint 7"
   ]
  },
  {
   "cell_type": "markdown",
   "metadata": {},
   "source": [
    "#### Nivell 1"
   ]
  },
  {
   "cell_type": "markdown",
   "metadata": {},
   "source": [
    "Exercici 1\n",
    "\n",
    "Calculadora de l'índex de massa corporal\n",
    "\n",
    "- Escriu una funció que calculi l'IMC ingressat per l'usuari/ària, és a dir, qui ho executi haurà d'ingressar aquestes dades.\n",
    "\n",
    "- La funció ha de classificar el resultat en les seves respectives categories\n"
   ]
  },
  {
   "cell_type": "code",
   "execution_count": 21,
   "metadata": {},
   "outputs": [
    {
     "name": "stdout",
     "output_type": "stream",
     "text": [
      "Tu IMC es de 21.10070528384784. Eso te sitúa en la categoría de Peso normal\n"
     ]
    }
   ],
   "source": [
    "def get_data():\n",
    "    peso = float(input(\"Introduzca su peso en kg. Utilize solo números separando los decimales por '.'\"))\n",
    "    altura = float(input(\"Introduzca su altura en m. Utilize solo números separando los decimales por '.'\"))\n",
    "    return peso, altura\n",
    "    \n",
    "def calculo_imc(peso, altura):\n",
    "    return peso/altura**2\n",
    "\n",
    "def categoria(imc):\n",
    "    if imc < 18.5:\n",
    "        return \"Bajo peso\"\n",
    "    elif imc < 25:\n",
    "        return \"Peso normal\"\n",
    "    elif imc < 30:\n",
    "        return \"Sobrepeso\"\n",
    "    return \"Obesidad\"\n",
    "    \n",
    "def display(imc, categ):\n",
    "    print(f\"Tu IMC es de {imc}. Eso te sitúa en la categoría de {categ}\")\n",
    "\n",
    "def main_imc():\n",
    "    peso, altura = get_data()\n",
    "    imc = calculo_imc(peso, altura)\n",
    "    categ = categoria(imc)\n",
    "    display(imc, categ)    \n",
    "\n",
    "main_imc()"
   ]
  },
  {
   "cell_type": "code",
   "execution_count": 22,
   "metadata": {},
   "outputs": [
    {
     "name": "stdout",
     "output_type": "stream",
     "text": [
      "Tu IMC es de 21.847008520333322. Eso te sitúa en la categoría de Peso normal\n"
     ]
    }
   ],
   "source": [
    "# CORRECCION\n",
    "def imc_calc():\n",
    "    peso = float(input(\"Introduzca su peso en kg. Utilize solo números separando los decimales por '.'\"))\n",
    "    altura = float(input(\"Introduzca su altura en m. Utilize solo números separando los decimales por '.'\"))\n",
    "    imc = peso/altura**2\n",
    "    if imc < 18.5:\n",
    "        categ = \"Bajo peso\"\n",
    "    elif imc < 25:\n",
    "        categ = \"Peso normal\"\n",
    "    elif imc < 30:\n",
    "        categ = \"Sobrepeso\"\n",
    "    else:\n",
    "        categ = \"Obesidad\"\n",
    "    print(f\"Tu IMC es de {imc}. Eso te sitúa en la categoría de {categ}\")\n",
    "\n",
    "\n",
    "\n",
    "imc_calc()\n",
    "    \n"
   ]
  },
  {
   "cell_type": "markdown",
   "metadata": {},
   "source": [
    "Exercici 2\n",
    "\n",
    "Convertidor de temperatures.\n",
    "\n",
    "Existeixen diverses unitats de temperatura utilitzades en diferents contextos i regions. Les més comunes són Celsius (°C), Fahrenheit (°F) i Kelvin (K). També existeixen altres unitats com Rankine (°Ra) i Réaumur (°Re). Selecciona almenys 2 conversors, de tal manera que en introduir una temperatura retorni, com a mínim, dues conversions.\n"
   ]
  },
  {
   "cell_type": "code",
   "execution_count": 12,
   "metadata": {},
   "outputs": [
    {
     "name": "stdout",
     "output_type": "stream",
     "text": [
      "3.0ºC es equivalente a 37.4ºF y a 276.15K\n"
     ]
    }
   ],
   "source": [
    "def temp_conv():\n",
    "    unidad = input(\"¿Qué unidad quiere convertir?\\nC = Celsius\\nF = Farenheit\\nK = Kelvin\")\n",
    "    temperatura = float(input(\"Por favor, introduzca el valor numérico de la temperatura. Recuerde separar los decimales por '.'\"))\n",
    "    if unidad == \"C\":\n",
    "        faren = 1.80 * temperatura + 32\n",
    "        kelvin = temperatura + 273.15\n",
    "        print(f\"{temperatura}ºC es equivalente a {faren}ºF y a {kelvin}K\")\n",
    "    elif unidad == \"F\":\n",
    "        celc = (temperatura - 32)/1.80\n",
    "        kelvin = ((temperatura - 32)/1.80) + 273.15\n",
    "        print(f\"{temperatura}ºF es equivalente a {celc}ºC y a {kelvin}K\")\n",
    "    elif unidad == \"K\":\n",
    "        faren = 1.8*(temperatura - 273.15) + 32\n",
    "        celc = temperatura - 273.15\n",
    "        print(f\"{temperatura}K es equivalente a {faren}ºF y a {celc}ºC\")\n",
    "\n",
    "\n",
    "\n",
    "temp_conv()\n"
   ]
  },
  {
   "cell_type": "markdown",
   "metadata": {},
   "source": [
    "Exercici 3\n",
    "\n",
    "Comptador de paraules d'un text.\n",
    "Escriu una funció que donat un text, mostri les vegades que apareix cada paraula.\n"
   ]
  },
  {
   "cell_type": "code",
   "execution_count": 13,
   "metadata": {},
   "outputs": [
    {
     "data": {
      "text/plain": [
       "{'mi': 2, 'mama': 1, 'me': 1, 'mima': 2}"
      ]
     },
     "execution_count": 13,
     "metadata": {},
     "output_type": "execute_result"
    }
   ],
   "source": [
    "import string\n",
    "\n",
    "# def contador(texto):\n",
    "#     palabra = 0\n",
    "#     listaTexto = texto.split()\n",
    "#     for i in listaTexto:\n",
    "#         palabra+=1\n",
    "    \n",
    "#     print(f\"Este texto tiene {palabra} palabras\")\n",
    "\n",
    "# text = input(\"Introduzca su texto por favor\")\n",
    "\n",
    "def get_text():\n",
    "    texto = input(\"Introduzca su texto por favor\")  \n",
    "    return texto\n",
    "\n",
    "\n",
    "def clean(texto):\n",
    "    special_char = list(string.punctuation)\n",
    "    special_char.append(\"¡\")\n",
    "    special_char.append(\"¿\")\n",
    "    for a in special_char:\n",
    "        texto = texto.replace(a, \"\")\n",
    "\n",
    "    listaTexto = texto.split()\n",
    "    return listaTexto\n",
    "\n",
    "\n",
    "def recuent(listaTexto):\n",
    "\n",
    "    recuento = {}\n",
    "    for i in listaTexto:\n",
    "        if i not in recuento:\n",
    "            recuento[i] = 1        \n",
    "        else:\n",
    "            recuento[i]+=1\n",
    "    return recuento\n",
    "\n",
    "def main_ej3():\n",
    "    texto = get_text()\n",
    "    listaTexto = clean(texto)\n",
    "    final = recuent(listaTexto)\n",
    "    return final\n",
    "\n",
    "main_ej3()\n"
   ]
  },
  {
   "cell_type": "markdown",
   "metadata": {},
   "source": [
    "Exercici 4\n",
    "\n",
    "Diccionari invers.\n",
    "\n",
    "Resulta que el client té una enquesta molt antiga que s'emmagatzema en un diccionari i els resultats els necessita al revés, és a dir, intercanviats les claus i els valors. Els valors i claus en el diccionari original són únics; si aquest no és el cas, la funció hauria d'imprimir un missatge d'advertiment.\n"
   ]
  },
  {
   "cell_type": "code",
   "execution_count": 14,
   "metadata": {},
   "outputs": [
    {
     "data": {
      "text/plain": [
       "'El diccionario contiene valores repetidos, no se puede invertir'"
      ]
     },
     "execution_count": 14,
     "metadata": {},
     "output_type": "execute_result"
    }
   ],
   "source": [
    "d1 = {'a':1, 'b':2, 'c':3}\n",
    "d2 = {'a':1, 'b':2, 'c':3, 'd': 3, 'e':1}\n",
    "\n",
    "def inv_dict(dicc):\n",
    "    flag = len(dicc) != len(set(dicc.values())) ##len(list(map(lambda x: x, dicc.values()))) != len(set(dicc.values()))\n",
    "    if flag == True:\n",
    "        return \"El diccionario contiene valores repetidos, no se puede invertir\"\n",
    "        # print... return None\n",
    "    else:\n",
    "        inverse = dict((v, k) for k, v in dicc.items())\n",
    "        return inverse\n",
    "\n",
    "inv_dict(d2)\n"
   ]
  },
  {
   "cell_type": "markdown",
   "metadata": {},
   "source": [
    "#### Nivell 2"
   ]
  },
  {
   "cell_type": "markdown",
   "metadata": {},
   "source": [
    "Exercici 1\n",
    "\n",
    "Diccionari invers amb duplicats.\n",
    "\n",
    "Continuant amb l'exercici 4 del nivell 1: al client es va oblidar de comentar un detall i resulta que els valors en el diccionari original poden duplicar-se i més, per la qual cosa les claus intercanviades poden tenir duplicats. En aquest cas, en l'exercici anterior imprimies un missatge d'advertiment, ara, els valors del diccionari resultant hauran d'emmagatzemar-se com una llista. Tingues en compte que si és un valor únic no ha de ser una llista.\n"
   ]
  },
  {
   "cell_type": "code",
   "execution_count": 15,
   "metadata": {},
   "outputs": [
    {
     "data": {
      "text/plain": [
       "{1: ['a', 'e'], 2: 'b', 3: ['c', 'd']}"
      ]
     },
     "execution_count": 15,
     "metadata": {},
     "output_type": "execute_result"
    }
   ],
   "source": [
    "d1 = {'a':1, 'b':2, 'c':3}\n",
    "d2 = {'a':1, 'b':2, 'c':3, 'd': 3, 'e':1}\n",
    "\n",
    "def inv_dict(dicc):\n",
    "\n",
    "    vals = list(dicc.values())\n",
    "    # seen = set()\n",
    "    seen = []\n",
    "    duplicates = []\n",
    "    for i in vals:\n",
    "        if i in seen:\n",
    "            duplicates.append(i)\n",
    "        else:\n",
    "            # seen.add(i)\n",
    "            seen.append(i)\n",
    "\n",
    "    inv_dic = {}\n",
    "    for k, v in dicc.items():\n",
    "        if v not in duplicates:\n",
    "            inv_dic[v] = inv_dic.get(v, k)\n",
    "        elif v in duplicates:\n",
    "            inv_dic[v] = inv_dic.get(v, []) + [k]\n",
    "    return inv_dic\n",
    "\n",
    "inv_dict(d2)"
   ]
  },
  {
   "cell_type": "code",
   "execution_count": 16,
   "metadata": {},
   "outputs": [
    {
     "data": {
      "text/plain": [
       "{1: ['a', 'e'], 2: 'b', 3: ['c', 'd']}"
      ]
     },
     "execution_count": 16,
     "metadata": {},
     "output_type": "execute_result"
    }
   ],
   "source": [
    "# CORRECCION\n",
    "d1 = {'a':1, 'b':2, 'c':3}\n",
    "d2 = {'a':1, 'b':2, 'c':3, 'd': 3, 'e':1}\n",
    "\n",
    "def inv_dict_plus(dictionary):\n",
    "    var = inv_dict(dictionary)\n",
    "\n",
    "    if isinstance(var, dict):\n",
    "        return var\n",
    "\n",
    "    else:\n",
    "        inv = {} \n",
    "        seen = []\n",
    "        dupl = []\n",
    "        for i in dictionary.values():\n",
    "            if i in seen:\n",
    "                dupl.append(i)\n",
    "            else:\n",
    "                seen.append(i)\n",
    "        \n",
    "        for k, v in dictionary.items():\n",
    "            if v in dupl:\n",
    "                inv[v] = inv.get(v, []) + [k]\n",
    "            else:\n",
    "                inv[v] = k\n",
    "        \n",
    "        return inv\n",
    "\n",
    "inv_dict_plus(d2)\n",
    "\n",
    "    "
   ]
  },
  {
   "cell_type": "markdown",
   "metadata": {},
   "source": [
    "Exercici 2\n",
    "\n",
    "Conversió de tipus de dades\n",
    "\n",
    "El client rep una llista de dades i necessita generar dues llistes, la primera on estaran tots els elements que es van poder convertir en flotants i l'altra on estan els elements que no es van poder convertir. Exemple de la llista que rep el client: [ '1.3', 'one' , '1e10' , 'seven', '3-1/2', ('2',1,1.4,'not-a-number'), [1,2,'3','3.4']]\n"
   ]
  },
  {
   "cell_type": "code",
   "execution_count": 17,
   "metadata": {},
   "outputs": [
    {
     "name": "stdout",
     "output_type": "stream",
     "text": [
      "La lista de flotantes es [1.3, 10000000000.0, 2.0, 1.0, 1.4, 1.0, 2.0, 3.0, 3.4]\n",
      "La lista de no flotantes es ['one', 'seven', '3-1/2', 'not-a-number']\n"
     ]
    }
   ],
   "source": [
    "lista = [ '1.3', 'one' , '1e10' , 'seven', '3-1/2', ('2',1,1.4,'not-a-number'), [1,2,'3','3.4']]\n",
    "# lista = [ '1.3', 'one' , '1e10' , 'seven', '3-1/2', ('2',1,1.4,'not-a-number'), [(1,2,'3'),'3.4']]\n",
    "\n",
    "def float_conv(lista, floats=None, no_floats=None):\n",
    "    if floats is None:\n",
    "        floats = []\n",
    "    if no_floats is None:\n",
    "        no_floats = []\n",
    "\n",
    "    for i in lista:\n",
    "        if isinstance(i, (list, tuple, set)):\n",
    "            float_conv(i, floats, no_floats)\n",
    "        else:\n",
    "            try:\n",
    "                floats.append(float(i))\n",
    "            except:\n",
    "                no_floats.append(i)\n",
    "    return floats, no_floats\n",
    "\n",
    "def main_float_conv(lista):\n",
    "    floats, no_floats = float_conv(lista)\n",
    "    print(f\"La lista de flotantes es {floats}\")\n",
    "    print(f\"La lista de no flotantes es {no_floats}\")\n",
    "\n",
    "main_float_conv(lista)"
   ]
  },
  {
   "cell_type": "markdown",
   "metadata": {},
   "source": [
    "#### Nivell 3"
   ]
  },
  {
   "cell_type": "markdown",
   "metadata": {},
   "source": [
    "Exercici 1\n",
    "\n",
    "Comptador i endreçador de paraules d'un text.\n",
    "\n",
    "El client va quedar content amb el comptador de paraules, però ara vol llegir arxius TXT i que calculi la freqüència de cada paraula ordenades dins de les entrades habituals del diccionari segons la lletra amb la qual comencen, és a dir, les claus han d'anar de la A a la Z i dins de la A hem d'anar de la A la Z. Per exemple, per a l'arxiu \"tu_me_quieres_blanca.txt\" la sortida esperada seria\n"
   ]
  },
  {
   "cell_type": "code",
   "execution_count": 18,
   "metadata": {},
   "outputs": [
    {
     "data": {
      "text/plain": [
       "{'a': {'a': 3,\n",
       "  'agua': 1,\n",
       "  'al': 2,\n",
       "  'alba': 4,\n",
       "  'alcobas': 1,\n",
       "  'alimenta': 1,\n",
       "  'alma': 1,\n",
       "  'amarga': 1,\n",
       "  'azucena': 1},\n",
       " 'b': {'baco': 1,\n",
       "  'banquete': 1,\n",
       "  'bebe': 1,\n",
       "  'blanca': 3,\n",
       "  'boca': 1,\n",
       "  'bosques': 1,\n",
       "  'buen': 1},\n",
       " 'c': {'cabañas': 1,\n",
       "  'carnes': 2,\n",
       "  'casta': 3,\n",
       "  'cerrada': 1,\n",
       "  'con': 4,\n",
       "  'conservas': 1,\n",
       "  'copas': 1,\n",
       "  'corola': 1,\n",
       "  'corriste': 1,\n",
       "  'cuando': 2,\n",
       "  'cubierto': 1,\n",
       "  'cuerpo': 1,\n",
       "  'cuáles': 1},\n",
       " 'd': {'de': 8, 'dejaste': 1, 'del': 1, 'diga': 1, 'dios': 2, 'duerme': 1},\n",
       " 'e': {'el': 4,\n",
       "  'ellas': 1,\n",
       "  'en': 4,\n",
       "  'engaño': 1,\n",
       "  'enredada': 1,\n",
       "  'entonces': 1,\n",
       "  'escarcha': 1,\n",
       "  'espumas': 1,\n",
       "  'esqueleto': 1,\n",
       "  'estrago': 1},\n",
       " 'f': {'festejando': 1, 'filtrado': 1, 'frutos': 1},\n",
       " 'h': {'habla': 1,\n",
       "  'hacia': 1,\n",
       "  'haya': 1,\n",
       "  'hayas': 1,\n",
       "  'hermana': 1,\n",
       "  'hombre': 1,\n",
       "  'hubiste': 1,\n",
       "  'huye': 1},\n",
       " 'i': {'intacto': 1},\n",
       " 'j': {'jardines': 1},\n",
       " 'l': {'la': 3,\n",
       "  'labios': 1,\n",
       "  'las': 7,\n",
       "  'lo': 2,\n",
       "  'los': 4,\n",
       "  'luna': 1,\n",
       "  'lévate': 1,\n",
       "  'límpiate': 1},\n",
       " 'm': {'mano': 1,\n",
       "  'manos': 1,\n",
       "  'margarita': 1,\n",
       "  'me': 10,\n",
       "  'mi': 1,\n",
       "  'mieles': 1,\n",
       "  'milagros': 1,\n",
       "  'mojada': 1,\n",
       "  'montaña': 1,\n",
       "  'morados': 1},\n",
       " 'n': {'negros': 1, 'ni': 2, 'no': 1, 'nácar': 1, 'nívea': 2},\n",
       " 'p': {'perdone': 2,\n",
       "  'perfume': 1,\n",
       "  'por': 2,\n",
       "  'pretendes': 3,\n",
       "  'preténdeme': 3,\n",
       "  'puesto': 1,\n",
       "  'pájaros': 1,\n",
       "  'pámpanos': 1},\n",
       " 'q': {'que': 6, 'quedó': 1, 'quieres': 6},\n",
       " 'r': {'rayo': 1, 'raíz': 1, 'renueva': 1, 'rocas': 1, 'rojo': 1},\n",
       " 's': {'salitre': 1, 'se': 2, 'sea': 1, 'sean': 1, 'sobre': 2, 'sé': 1},\n",
       " 't': {'te': 3,\n",
       "  'tejidos': 1,\n",
       "  'tenue': 1,\n",
       "  'tierra': 1,\n",
       "  'toca': 1,\n",
       "  'todas': 2,\n",
       "  'todavía': 1,\n",
       "  'tornadas': 1,\n",
       "  'tú': 8},\n",
       " 'u': {'un': 1, 'una': 1},\n",
       " 'v': {'vestido': 1, 'vete': 1, 'vive': 1},\n",
       " 'y': {'y': 5}}"
      ]
     },
     "execution_count": 18,
     "metadata": {},
     "output_type": "execute_result"
    }
   ],
   "source": [
    "import string\n",
    "\n",
    "text = \"C:/Users/Pau/Desktop/BCNActiva ADD/Sprint 7 Py/tu_me_quieres_blanca.txt\"\n",
    "\n",
    "\n",
    "\n",
    "# text = \"Hola que tal taa\"\n",
    "\n",
    "def letras(path):\n",
    "    t = open(path)\n",
    "    texto = t.read().lower()\n",
    "\n",
    "    # -- def\n",
    "    # regex\n",
    "    special_char = list(string.punctuation)\n",
    "    special_char.append(\"¡\")\n",
    "    special_char.append(\"¿\")\n",
    "    for a in special_char:\n",
    "        texto = texto.replace(a, \"\")\n",
    "\n",
    "    listaTexto = texto.split()\n",
    "\n",
    "    # -- def\n",
    "    # Counter\n",
    "    recuento = {}\n",
    "    for i in listaTexto:\n",
    "        \n",
    "        letra = i[0]   \n",
    "\n",
    "        if letra not in recuento:\n",
    "            recuento[letra] = {}\n",
    "        \n",
    "        if i not in recuento[letra]:\n",
    "            recuento[letra].update({i: 1})\n",
    "        \n",
    "        else:\n",
    "            recuento[letra].update({i: recuento[letra][i]+1})\n",
    "        \n",
    "    # -- def\n",
    "    # sorted_recuento = dict(sorted(recuento.items()))\n",
    "    sorted_recuento = {k: {x:y for x,y in sorted(v.items())} for k,v in sorted(recuento.items())}\n",
    "\n",
    "    # sorted_recuento = {}\n",
    "\n",
    "    # for k, v in sorted(recuento.items()):  \n",
    "    #     subdict_ordenado = {}  # Diccionario temporal para los valores internos\n",
    "        \n",
    "    #     # Ordenar los elementos dentro del subdiccionario\n",
    "    #     for x, y in sorted(v.items()):  \n",
    "    #         subdict_ordenado[x] = y  # Agregar elementos en orden\n",
    "\n",
    "    #     sorted_recuento[k] = subdict_ordenado\n",
    "    return sorted_recuento\n",
    "\n",
    "\n",
    "letras(text)\n",
    "    "
   ]
  },
  {
   "cell_type": "code",
   "execution_count": 19,
   "metadata": {},
   "outputs": [
    {
     "data": {
      "text/plain": [
       "{'a': {'a': 3,\n",
       "  'agua': 1,\n",
       "  'al': 2,\n",
       "  'alba': 4,\n",
       "  'alcobas': 1,\n",
       "  'alimenta': 1,\n",
       "  'alma': 1,\n",
       "  'amarga': 1,\n",
       "  'azucena': 1},\n",
       " 'b': {'baco': 1,\n",
       "  'banquete': 1,\n",
       "  'bebe': 1,\n",
       "  'blanca': 3,\n",
       "  'boca': 1,\n",
       "  'bosques': 1,\n",
       "  'buen': 1},\n",
       " 'c': {'cabañas': 1,\n",
       "  'carnes': 2,\n",
       "  'casta': 3,\n",
       "  'cerrada': 1,\n",
       "  'con': 4,\n",
       "  'conservas': 1,\n",
       "  'copas': 1,\n",
       "  'corola': 1,\n",
       "  'corriste': 1,\n",
       "  'cuando': 2,\n",
       "  'cubierto': 1,\n",
       "  'cuerpo': 1,\n",
       "  'cuáles': 1},\n",
       " 'd': {'de': 8, 'dejaste': 1, 'del': 1, 'diga': 1, 'dios': 2, 'duerme': 1},\n",
       " 'e': {'el': 4,\n",
       "  'ellas': 1,\n",
       "  'en': 4,\n",
       "  'engaño': 1,\n",
       "  'enredada': 1,\n",
       "  'entonces': 1,\n",
       "  'escarcha': 1,\n",
       "  'espumas': 1,\n",
       "  'esqueleto': 1,\n",
       "  'estrago': 1},\n",
       " 'f': {'festejando': 1, 'filtrado': 1, 'frutos': 1},\n",
       " 'h': {'habla': 1,\n",
       "  'hacia': 1,\n",
       "  'haya': 1,\n",
       "  'hayas': 1,\n",
       "  'hermana': 1,\n",
       "  'hombre': 1,\n",
       "  'hubiste': 1,\n",
       "  'huye': 1},\n",
       " 'i': {'intacto': 1},\n",
       " 'j': {'jardines': 1},\n",
       " 'l': {'la': 3,\n",
       "  'labios': 1,\n",
       "  'las': 7,\n",
       "  'lo': 2,\n",
       "  'los': 4,\n",
       "  'luna': 1,\n",
       "  'lévate': 1,\n",
       "  'límpiate': 1},\n",
       " 'm': {'mano': 1,\n",
       "  'manos': 1,\n",
       "  'margarita': 1,\n",
       "  'me': 10,\n",
       "  'mi': 1,\n",
       "  'mieles': 1,\n",
       "  'milagros': 1,\n",
       "  'mojada': 1,\n",
       "  'montaña': 1,\n",
       "  'morados': 1},\n",
       " 'n': {'negros': 1, 'ni': 2, 'no': 1, 'nácar': 1, 'nívea': 2},\n",
       " 'p': {'perdone': 2,\n",
       "  'perfume': 1,\n",
       "  'por': 2,\n",
       "  'pretendes': 3,\n",
       "  'preténdeme': 3,\n",
       "  'puesto': 1,\n",
       "  'pájaros': 1,\n",
       "  'pámpanos': 1},\n",
       " 'q': {'que': 6, 'quedó': 1, 'quieres': 6},\n",
       " 'r': {'rayo': 1, 'raíz': 1, 'renueva': 1, 'rocas': 1, 'rojo': 1},\n",
       " 's': {'salitre': 1, 'se': 2, 'sea': 1, 'sean': 1, 'sobre': 2, 'sé': 1},\n",
       " 't': {'te': 3,\n",
       "  'tejidos': 1,\n",
       "  'tenue': 1,\n",
       "  'tierra': 1,\n",
       "  'toca': 1,\n",
       "  'todas': 2,\n",
       "  'todavía': 1,\n",
       "  'tornadas': 1,\n",
       "  'tú': 8},\n",
       " 'u': {'un': 1, 'una': 1},\n",
       " 'v': {'vestido': 1, 'vete': 1, 'vive': 1},\n",
       " 'y': {'y': 5}}"
      ]
     },
     "execution_count": 19,
     "metadata": {},
     "output_type": "execute_result"
    }
   ],
   "source": [
    "# CORRECCION\n",
    "import string\n",
    "import re\n",
    "\n",
    "text = \"C:/Users/Pau/Desktop/BCNActiva ADD/Sprint 7 Py/tu_me_quieres_blanca.txt\"\n",
    "\n",
    "def get_text(path):\n",
    "    t = open(path)\n",
    "    texto = t.read().lower()\n",
    "    return texto\n",
    "\n",
    "def clean(texto):\n",
    "    special_char = list(string.punctuation)\n",
    "    special_char.append(\"¡\")\n",
    "    special_char.append(\"¿\")\n",
    "    for a in special_char:\n",
    "        texto = texto.replace(a, \"\")\n",
    "    \n",
    "    # texto = re.sub('[^A-ZÀ-ža-z0-9 \\n]', '', texto)     # regex \n",
    "\n",
    "    listaTexto = texto.split()\n",
    "    return listaTexto\n",
    "\n",
    "def recuent(listaTexto):\n",
    "    # count() también se podría usar para contar la cantidad de veces que algo aparece en una string. Ej: texto.count(i)\n",
    "    recuento = {}\n",
    "    for i in listaTexto:\n",
    "        \n",
    "        letra = i[0]   \n",
    "\n",
    "        if letra not in recuento:\n",
    "            recuento[letra] = {}\n",
    "        \n",
    "        if i not in recuento[letra]:\n",
    "            recuento[letra].update({i: 1})\n",
    "        \n",
    "        else:\n",
    "            recuento[letra].update({i: recuento[letra][i]+1})\n",
    "    return recuento\n",
    "\n",
    "def sort(recuento):\n",
    "    sorted_recuento = {k: {x:y for x,y in sorted(v.items())} for k,v in sorted(recuento.items())}\n",
    "    # SIN DICT COMPREHENSION\n",
    "    # sorted_recuento = {}\n",
    "\n",
    "    # for k, v in sorted(recuento.items()):  \n",
    "    #     subdict_ordenado = {}  # Diccionario temporal para los valores internos\n",
    "        \n",
    "    #     # Ordenar los elementos dentro del subdiccionario\n",
    "    #     for x, y in sorted(v.items()):  \n",
    "    #         subdict_ordenado[x] = y  # Agregar elementos en orden\n",
    "\n",
    "    #     sorted_recuento[k] = subdict_ordenado\n",
    "    return sorted_recuento\n",
    "\n",
    "def main_recuento(path):\n",
    "    texto = get_text(path)\n",
    "    listaTexto = clean(texto)\n",
    "    recuento = recuent(listaTexto)\n",
    "    sorted_recuento = sort(recuento)\n",
    "    return sorted_recuento\n",
    "\n",
    "\n",
    "\n",
    "main_recuento(text)\n",
    "    "
   ]
  }
 ],
 "metadata": {
  "kernelspec": {
   "display_name": "myenv",
   "language": "python",
   "name": "python3"
  },
  "language_info": {
   "codemirror_mode": {
    "name": "ipython",
    "version": 3
   },
   "file_extension": ".py",
   "mimetype": "text/x-python",
   "name": "python",
   "nbconvert_exporter": "python",
   "pygments_lexer": "ipython3",
   "version": "3.10.13"
  }
 },
 "nbformat": 4,
 "nbformat_minor": 2
}
